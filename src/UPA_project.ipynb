{
 "cells": [
  {
   "cell_type": "markdown",
   "metadata": {},
   "source": [
    "Pro správné fungování notebooku je potřeba mít v Jupyteru mít povolenou/nainstalovanou [integraci s Matplotlib](https://github.com/matplotlib/ipympl) a v prostředí Python kernelu mít nainstalované balíčky:\n",
    "- psycopg2\n",
    "- pymongo\n",
    "- pandas\n",
    "- matplotlib"
   ]
  },
  {
   "cell_type": "code",
   "execution_count": 7,
   "metadata": {},
   "outputs": [],
   "source": [
    "%matplotlib widget\n",
    "import sys; sys.path.insert(0, '.')\n",
    "import os"
   ]
  },
  {
   "cell_type": "markdown",
   "metadata": {},
   "source": [
    "Některé součásti řešení zde nebudeme demonstrovat v celé délce, použijeme funkce pro zpracování vstupních dat nebo pro připojení k databázím, které máme předdefinované v našich knihovních souborech. Hlavní strukturu zde ale nastíníme, počínaje stáhnutím a zpracováním vstupních souborů.\n",
    "\n",
    "## Stažení zdrojových souborů"
   ]
  },
  {
   "cell_type": "code",
   "execution_count": 8,
   "metadata": {},
   "outputs": [
    {
     "data": {
      "text/plain": [
       "123"
      ]
     },
     "execution_count": 8,
     "metadata": {},
     "output_type": "execute_result"
    }
   ],
   "source": [
    "scrape_dir = 'scraped/'\n",
    "if not os.path.isdir(scrape_dir):\n",
    "    os.mkdir(scrape_dir)\n",
    "len(os.listdir(scrape_dir))"
   ]
  },
  {
   "cell_type": "code",
   "execution_count": 9,
   "metadata": {},
   "outputs": [
    {
     "name": "stdout",
     "output_type": "stream",
     "text": [
      "All files already present.\n",
      "Got 123 input files\n",
      "\n",
      "30.09.2020 #189\n",
      "země|měna|množství|kód|kurz\n",
      "Austrálie|dolar|1|AUD|16,550\n",
      "Brazílie|real|1|BRL|4,101\n",
      "Bulharsko|lev|1|BGN|13,911\n",
      "Čína|žen-min-pi|1|CNY|3,414\n",
      "Dánsko|koruna|1|DKK|3,654\n",
      "EMU|euro|1|EUR|27,210\n",
      "Filipíny|peso|100|PHP|47,922\n",
      "Hongkong|dolar|1|HKD|2,998\n",
      "Chorvatsko|kuna|1|HRK|3,601\n",
      "Indie|rupie|100|INR|31,526\n",
      "Indonesie|rupie|1000|IDR|1,562\n",
      "Island|koruna|100|ISK|16,776\n",
      "Izrael|nový šekel|1|ILS|6,756\n",
      "Japonsko|jen|100|JPY|21,983\n",
      "Jižní Afrika|rand|1|ZAR|1,380\n",
      "Kanada|dolar|1|CAD|17,356\n",
      "Korejská republika|won|100|KRW|1,988\n",
      "Maďarsko|forint|100|HUF|7,444\n",
      "Malajsie|ringgit|1|MYR|5,592\n",
      "Mexiko|peso|1|MXN|1,039\n",
      "MMF|ZPČ|1|XDR|32,703\n",
      "Norsko|koruna|1|NOK|2,451\n",
      "Nový Zéland|dolar|1|NZD|15,285\n",
      "Polsko|zlotý|1|PLN|5,985\n",
      "Rumunsko|leu|1|RON|5,584\n",
      "Rusko|rubl|100|RUB|29,653\n",
      "Singapur|dolar|1|SGD|16,967\n",
      "Švédsko|koruna|1|SEK|2,574\n",
      "Švýcarsko|frank|1|CHF|25,181\n",
      "Thajsko|baht|100|THB|73,377\n",
      "Turecko|lira|1|TRY|2,990\n",
      "USA|dolar|1|USD|23,239\n",
      "Velká Británie|libra|1|GBP|29,819\n",
      "\n"
     ]
    }
   ],
   "source": [
    "import csv\n",
    "from datetime import date, datetime\n",
    "import time\n",
    "\n",
    "from dateutil.relativedelta import relativedelta\n",
    "import requests\n",
    "\n",
    "def scrape(base_url, output_dir, start_date, end_date):\n",
    "    any_downloads = False\n",
    "    for ordinal in range(start_date.toordinal(), end_date.toordinal()):\n",
    "        url = base_url + date.fromordinal(ordinal).strftime('%d.%m.%Y')\n",
    "        path = date.fromordinal(ordinal).strftime('%Y-%m-%d') + '.txt'\n",
    "        filename = os.path.join(output_dir, path)\n",
    "        if os.path.isfile(filename):\n",
    "            continue\n",
    "        any_downloads = True\n",
    "        print(\"Requesting %s...\" % url, end='')\n",
    "        try:\n",
    "            request = requests.get(url)\n",
    "            if not request.text:\n",
    "                print(' Empty!')\n",
    "                continue\n",
    "            print(' OK')\n",
    "            with open(filename, 'w') as handle:\n",
    "                handle.write(request.text)\n",
    "            time.sleep(0.2)\n",
    "        except Exception as ex:\n",
    "            print(' %s' % ex)\n",
    "            continue\n",
    "    if not any_downloads:\n",
    "        print(\"All files already present.\")\n",
    "\n",
    "start_date = datetime.today() - relativedelta(months=4)\n",
    "end_date = datetime.today()\n",
    "scrape(\n",
    "    base_url='https://www.cnb.cz/cs/financni-trhy/devizovy-trh/kurzy-devizoveho-trhu/kurzy-devizoveho-trhu/denni_kurz.txt?date=',\n",
    "    start_date=start_date,\n",
    "    end_date=end_date,\n",
    "    output_dir=scrape_dir,\n",
    ")\n",
    "print(\"Got %s input files\" % len(os.listdir(scrape_dir)))\n",
    "print()\n",
    "with open(scrape_dir + '/' + os.listdir(scrape_dir)[0], 'r') as f:\n",
    "    print(f.read())"
   ]
  },
  {
   "cell_type": "code",
   "execution_count": 10,
   "metadata": {},
   "outputs": [
    {
     "name": "stdout",
     "output_type": "stream",
     "text": [
      "{'date': datetime.datetime(2020, 9, 30, 0, 0), 'currency': {'country': 'Austrálie', 'name': 'dolar', 'code': 'AUD'}, 'lotSize': '1', 'price': '16,550'}\n"
     ]
    }
   ],
   "source": [
    "from scrape import parse\n",
    "for input_file in parse(scrape_dir):\n",
    "    print(input_file)\n",
    "    break"
   ]
  },
  {
   "cell_type": "markdown",
   "metadata": {},
   "source": [
    "Nyní máme stažené všechny textové/CSV vstupní soubory a zpracované v takovém formátu, že je můžeme přímo vložit do MongoDB bez dalšího zpracování. Do tohoto bodu se veškeré zpracování skládalo z načtení CSV souboru a přidání data ke každému řádku tak, se dá dále zpracovávat."
   ]
  },
  {
   "cell_type": "code",
   "execution_count": 11,
   "metadata": {},
   "outputs": [
    {
     "name": "stdout",
     "output_type": "stream",
     "text": [
      "Loaded 4026 records to MongoDB\n"
     ]
    },
    {
     "data": {
      "text/plain": [
       "{'_id': ObjectId('5fcea9abdeb7c7b5ed8ddec7'),\n",
       " 'date': datetime.datetime(2020, 9, 30, 0, 0),\n",
       " 'currency': {'country': 'Austrálie', 'name': 'dolar', 'code': 'AUD'},\n",
       " 'lotSize': '1',\n",
       " 'price': '16,550'}"
      ]
     },
     "execution_count": 11,
     "metadata": {},
     "output_type": "execute_result"
    }
   ],
   "source": [
    "from db_connects import MONGO_DB_CURRENCIES, MONGO_DB_COL_CURRENCIES, connect_to_mongodb\n",
    "\n",
    "client = connect_to_mongodb()\n",
    "collection = client[MONGO_DB_CURRENCIES][MONGO_DB_COL_CURRENCIES]\n",
    "collection.drop()\n",
    "\n",
    "res = collection.insert_many(parse(scrape_dir))\n",
    "print(\"Loaded %s records to MongoDB\" % len(res.inserted_ids))\n",
    "\n",
    "collection.find_one()"
   ]
  },
  {
   "cell_type": "markdown",
   "metadata": {},
   "source": [
    "Takto vypadají všechny záznamy v MongoDB. Nyní je převedeme to PostgreSQL, konkrétně do normalizovaného formátu ve dvou tabulkách, jedna tabulka měn a jedna tabulka kurzů.\n",
    "\n",
    "- `Měna = Kód měny (string, primární klíč) x Název (string) x Země (string)`\n",
    "- `Kurz = Den (date) x Kód měny (cizí klíč) x Normalizovaný kurz (Float)`\n",
    "\n",
    "(Float sice není ideální reprezentace pro finanční výpočty, ale pro naše účely postačuje.)"
   ]
  },
  {
   "cell_type": "code",
   "execution_count": 12,
   "metadata": {},
   "outputs": [],
   "source": [
    "import json\n",
    "from bson.json_util import dumps\n",
    "from psycopg2 import extensions\n",
    "from db_connects import connect_to_postgres\n",
    "\n",
    "conn = connect_to_postgres()\n",
    "\n",
    "conn.set_isolation_level(extensions.ISOLATION_LEVEL_AUTOCOMMIT)\n",
    "\n",
    "cursor = conn.cursor()\n",
    "cursor.execute(\"DROP TABLE IF EXISTS kurz\")\n",
    "cursor.execute(\"DROP TABLE IF EXISTS mena\")\n",
    "cursor.execute(\"CREATE TABLE mena (zeme varchar(100), nazev varchar(100), kod varchar(10) primary KEY)\")\n",
    "cursor.execute(\n",
    "    \"CREATE TABLE kurz (den DATE, kod varchar(10), \"\n",
    "    \"CONSTRAINT fk_mena FOREIGN KEY(kod) REFERENCES mena(kod) ON DELETE SET NULL, \"\n",
    "    \"normalizovany_kurz FLOAT)\"\n",
    ")"
   ]
  },
  {
   "cell_type": "code",
   "execution_count": 13,
   "metadata": {},
   "outputs": [],
   "source": [
    "mena_res = collection.find({}, {\"currency\": 1, \"_id\": 0}).distinct(\"currency\")\n",
    "for mena_item in mena_res:\n",
    "    cursor.execute(\"INSERT INTO mena VALUES ('{}', '{}', '{}')\".format(\n",
    "        mena_item[\"country\"],\n",
    "        mena_item[\"name\"],\n",
    "        mena_item[\"code\"]\n",
    "    ))\n",
    "\n",
    "for item in collection.find({}, {\"_id\": 0}):\n",
    "    cursor.execute(\"INSERT INTO kurz VALUES ('{}', '{}', '{}')\".format(\n",
    "        item[\"date\"].strftime(\"%Y-%m-%d\"),\n",
    "        item[\"currency\"][\"code\"],\n",
    "        float(item[\"price\"].replace(',', '.')) / int(item[\"lotSize\"])\n",
    "    ))"
   ]
  },
  {
   "cell_type": "code",
   "execution_count": 14,
   "metadata": {},
   "outputs": [
    {
     "name": "stdout",
     "output_type": "stream",
     "text": [
      "33 rows\n",
      "('Austrálie', 'dolar', 'AUD')\n",
      "\n",
      "4026 rows\n",
      "(datetime.date(2020, 9, 30), 'AUD', 16.55)\n"
     ]
    }
   ],
   "source": [
    "cursor.execute(\"SELECT * from mena\")\n",
    "print(\"%s rows\" % cursor.rowcount)\n",
    "for row in cursor:\n",
    "    print(row)\n",
    "    break\n",
    "print()\n",
    "cursor.execute(\"SELECT * from kurz\")\n",
    "print(\"%s rows\" % cursor.rowcount)\n",
    "for row in cursor:\n",
    "    print(row)\n",
    "    break"
   ]
  },
  {
   "cell_type": "markdown",
   "metadata": {},
   "source": [
    "Nyní máme všechna data ve strukturované reprezentaci v PostgreSQL a můžeme se pustit do jednotlivých úkolů.\n",
    "\n",
    "## Úkol A\n",
    "\n",
    "První úkol, který jsme si ze zadání vybrali, je vytvoření žebříčku měn, které v daném období nejvíce posílily/oslabily."
   ]
  },
  {
   "cell_type": "code",
   "execution_count": 42,
   "metadata": {},
   "outputs": [
    {
     "data": {
      "application/vnd.jupyter.widget-view+json": {
       "model_id": "2c65a74301f143929316e9ab3aa5eae3",
       "version_major": 2,
       "version_minor": 0
      },
      "text/plain": [
       "Canvas(toolbar=Toolbar(toolitems=[('Home', 'Reset original view', 'home', 'home'), ('Back', 'Back to previous …"
      ]
     },
     "metadata": {},
     "output_type": "display_data"
    }
   ],
   "source": [
    "import numpy as np\n",
    "import pandas as pd\n",
    "import matplotlib.pyplot as plt\n",
    "\n",
    "cursor.execute(\n",
    "    \"select kod, normalizovany_kurz from kurz where den = (SELECT MIN(den) from kurz)\"\n",
    "    \" ORDER BY kod ASC\"\n",
    ")\n",
    "min_hash = dict(cursor)\n",
    "cursor.execute(\n",
    "    \"select kod, normalizovany_kurz from kurz where den = (SELECT MAX(den) from kurz)\"\n",
    "    \" GROUP BY kod, normalizovany_kurz ORDER BY kod ASC\"\n",
    ")\n",
    "diff = {}\n",
    "for item in cursor:\n",
    "    diff[item[0]] = min_hash[item[0]] - item[1]\n",
    "diff = {k: v for k, v in sorted(diff.items(), key=lambda x: -x[1])}\n",
    "\n",
    "fig = plt.figure()\n",
    "x = np.arange(len(diff))\n",
    "plt.bar(x, height=diff.values())\n",
    "plt.xticks(x, diff.keys(), rotation=-90);"
   ]
  },
  {
   "cell_type": "code",
   "execution_count": 54,
   "metadata": {},
   "outputs": [
    {
     "name": "stdout",
     "output_type": "stream",
     "text": [
      "Between 2020-08-06 and 2020-12-06 the best performing currency was USD which changed by 0.31 units.\n"
     ]
    }
   ],
   "source": [
    "print(\"Between %s and %s the best performing currency was %s which changed by %s units.\" % (\n",
    "    start_date.date(), end_date.date(), list(diff.items())[0][0], round(list(diff.items())[0][1], 2)\n",
    "))"
   ]
  },
  {
   "cell_type": "code",
   "execution_count": null,
   "metadata": {},
   "outputs": [],
   "source": []
  },
  {
   "cell_type": "markdown",
   "metadata": {},
   "source": [
    "## Úkol C\n",
    "\n",
    "Ve třetím úkolu, naším vlastním, jsme se rozhodli zjistit zda nemají jednotlivé dny v týdnu vliv na změnu kurzu."
   ]
  },
  {
   "cell_type": "code",
   "execution_count": 19,
   "metadata": {},
   "outputs": [
    {
     "data": {
      "application/vnd.jupyter.widget-view+json": {
       "model_id": "74de44fb2de84d7dbc821047a27a45d2",
       "version_major": 2,
       "version_minor": 0
      },
      "text/plain": [
       "Canvas(toolbar=Toolbar(toolitems=[('Home', 'Reset original view', 'home', 'home'), ('Back', 'Back to previous …"
      ]
     },
     "metadata": {},
     "output_type": "display_data"
    }
   ],
   "source": [
    "import numpy as np\n",
    "import pandas as pd\n",
    "import matplotlib.pyplot as plt\n",
    "\n",
    "cursor.execute(\n",
    "    \"SELECT date_part('dow', den::date) as dow, AVG(normalizovany_kurz) FROM kurz GROUP BY dow order by dow\"\n",
    ")\n",
    "days = {}\n",
    "for item in cursor:\n",
    "    day_str = \"\"\n",
    "    if (item[0] == 1):\n",
    "        day_str = \"mon\"\n",
    "    elif (item[0] == 2):\n",
    "        day_str = \"tue\"\n",
    "    elif (item[0] == 3):\n",
    "        day_str = \"wed\"\n",
    "    elif (item[0] == 4):\n",
    "        day_str = \"thu\"\n",
    "    elif (item[0] == 5):\n",
    "        day_str = \"fri\"\n",
    "    days[day_str] = item[1]\n",
    "\n",
    "   \n",
    "fig = plt.figure()\n",
    "x = np.arange(len(days))\n",
    "plt.bar(x, height=days.values())\n",
    "plt.xticks(x, days.keys(), rotation=-90);"
   ]
  }
 ],
 "metadata": {
  "kernelspec": {
   "display_name": "Python 3",
   "language": "python",
   "name": "python3"
  },
  "language_info": {
   "codemirror_mode": {
    "name": "ipython",
    "version": 3
   },
   "file_extension": ".py",
   "mimetype": "text/x-python",
   "name": "python",
   "nbconvert_exporter": "python",
   "pygments_lexer": "ipython3",
   "version": "3.8.6"
  }
 },
 "nbformat": 4,
 "nbformat_minor": 4
}
